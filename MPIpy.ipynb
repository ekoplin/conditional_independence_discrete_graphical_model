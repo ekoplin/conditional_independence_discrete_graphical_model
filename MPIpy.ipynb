{
 "cells": [
  {
   "cell_type": "code",
   "execution_count": 1,
   "id": "21566966-01d6-40dc-944c-fe29d777208e",
   "metadata": {},
   "outputs": [],
   "source": [
    "import os\n",
    "import pandas as pd\n",
    "import numpy as np"
   ]
  },
  {
   "cell_type": "code",
   "execution_count": 5,
   "id": "07c00381-b736-4a45-b6da-7314a468b2b9",
   "metadata": {},
   "outputs": [
    {
     "data": {
      "text/plain": [
       "'C:\\\\Users\\\\girel\\\\OneDrive\\\\Documentos\\\\python\\\\conditional_independence_discrete_graphical_model'"
      ]
     },
     "execution_count": 5,
     "metadata": {},
     "output_type": "execute_result"
    }
   ],
   "source": [
    "os.getcwd()"
   ]
  },
  {
   "cell_type": "code",
   "execution_count": 6,
   "id": "f8afaf0e-249d-46fa-836e-a4ecd0d08c0b",
   "metadata": {},
   "outputs": [],
   "source": [
    "mpi2023 = pd.read_csv(os.getcwd() + \"\\\\data\\\\MPI2023_microdata.csv\")"
   ]
  },
  {
   "cell_type": "code",
   "execution_count": 7,
   "id": "b073277b-91cf-4b18-bb35-917f9281216f",
   "metadata": {},
   "outputs": [
    {
     "data": {
      "text/html": [
       "<div>\n",
       "<style scoped>\n",
       "    .dataframe tbody tr th:only-of-type {\n",
       "        vertical-align: middle;\n",
       "    }\n",
       "\n",
       "    .dataframe tbody tr th {\n",
       "        vertical-align: top;\n",
       "    }\n",
       "\n",
       "    .dataframe thead th {\n",
       "        text-align: right;\n",
       "    }\n",
       "</style>\n",
       "<table border=\"1\" class=\"dataframe\">\n",
       "  <thead>\n",
       "    <tr style=\"text-align: right;\">\n",
       "      <th></th>\n",
       "      <th>hhid</th>\n",
       "      <th>hh_d_ni_noasis</th>\n",
       "      <th>hh_d_esc_retardada</th>\n",
       "      <th>hh_d_logro_min</th>\n",
       "      <th>hh_d_destotalmax</th>\n",
       "      <th>hh_d_subocup_max</th>\n",
       "      <th>hh_d_10a17_ocup</th>\n",
       "      <th>hh_d_no_afil</th>\n",
       "      <th>hh_d_jubi_pens</th>\n",
       "      <th>hh_d_materialidad</th>\n",
       "      <th>...</th>\n",
       "      <th>upm</th>\n",
       "      <th>nvivi</th>\n",
       "      <th>nhoga</th>\n",
       "      <th>dpto</th>\n",
       "      <th>area</th>\n",
       "      <th>pobrezai</th>\n",
       "      <th>pobnopoi</th>\n",
       "      <th>ing_tcm</th>\n",
       "      <th>tcm</th>\n",
       "      <th>estgeo</th>\n",
       "    </tr>\n",
       "  </thead>\n",
       "  <tbody>\n",
       "    <tr>\n",
       "      <th>0</th>\n",
       "      <td>00014_003_1</td>\n",
       "      <td>0</td>\n",
       "      <td>1</td>\n",
       "      <td>0</td>\n",
       "      <td>1</td>\n",
       "      <td>0</td>\n",
       "      <td>0</td>\n",
       "      <td>0</td>\n",
       "      <td>0</td>\n",
       "      <td>0</td>\n",
       "      <td>...</td>\n",
       "      <td>14</td>\n",
       "      <td>3</td>\n",
       "      <td>1</td>\n",
       "      <td>Asuncion</td>\n",
       "      <td>1</td>\n",
       "      <td>3</td>\n",
       "      <td>0</td>\n",
       "      <td>0.0</td>\n",
       "      <td>0</td>\n",
       "      <td>Asuncion</td>\n",
       "    </tr>\n",
       "    <tr>\n",
       "      <th>1</th>\n",
       "      <td>00014_020_1</td>\n",
       "      <td>0</td>\n",
       "      <td>0</td>\n",
       "      <td>0</td>\n",
       "      <td>0</td>\n",
       "      <td>0</td>\n",
       "      <td>0</td>\n",
       "      <td>1</td>\n",
       "      <td>0</td>\n",
       "      <td>0</td>\n",
       "      <td>...</td>\n",
       "      <td>14</td>\n",
       "      <td>20</td>\n",
       "      <td>1</td>\n",
       "      <td>Asuncion</td>\n",
       "      <td>1</td>\n",
       "      <td>3</td>\n",
       "      <td>0</td>\n",
       "      <td>0.0</td>\n",
       "      <td>0</td>\n",
       "      <td>Asuncion</td>\n",
       "    </tr>\n",
       "    <tr>\n",
       "      <th>2</th>\n",
       "      <td>00014_023_1</td>\n",
       "      <td>0</td>\n",
       "      <td>0</td>\n",
       "      <td>0</td>\n",
       "      <td>0</td>\n",
       "      <td>0</td>\n",
       "      <td>0</td>\n",
       "      <td>1</td>\n",
       "      <td>0</td>\n",
       "      <td>0</td>\n",
       "      <td>...</td>\n",
       "      <td>14</td>\n",
       "      <td>23</td>\n",
       "      <td>1</td>\n",
       "      <td>Asuncion</td>\n",
       "      <td>1</td>\n",
       "      <td>3</td>\n",
       "      <td>0</td>\n",
       "      <td>0.0</td>\n",
       "      <td>0</td>\n",
       "      <td>Asuncion</td>\n",
       "    </tr>\n",
       "    <tr>\n",
       "      <th>3</th>\n",
       "      <td>00014_024_1</td>\n",
       "      <td>0</td>\n",
       "      <td>0</td>\n",
       "      <td>0</td>\n",
       "      <td>0</td>\n",
       "      <td>0</td>\n",
       "      <td>0</td>\n",
       "      <td>0</td>\n",
       "      <td>0</td>\n",
       "      <td>0</td>\n",
       "      <td>...</td>\n",
       "      <td>14</td>\n",
       "      <td>24</td>\n",
       "      <td>1</td>\n",
       "      <td>Asuncion</td>\n",
       "      <td>1</td>\n",
       "      <td>3</td>\n",
       "      <td>0</td>\n",
       "      <td>0.0</td>\n",
       "      <td>0</td>\n",
       "      <td>Asuncion</td>\n",
       "    </tr>\n",
       "    <tr>\n",
       "      <th>4</th>\n",
       "      <td>00014_025_1</td>\n",
       "      <td>0</td>\n",
       "      <td>0</td>\n",
       "      <td>0</td>\n",
       "      <td>0</td>\n",
       "      <td>0</td>\n",
       "      <td>0</td>\n",
       "      <td>0</td>\n",
       "      <td>0</td>\n",
       "      <td>0</td>\n",
       "      <td>...</td>\n",
       "      <td>14</td>\n",
       "      <td>25</td>\n",
       "      <td>1</td>\n",
       "      <td>Asuncion</td>\n",
       "      <td>1</td>\n",
       "      <td>3</td>\n",
       "      <td>0</td>\n",
       "      <td>0.0</td>\n",
       "      <td>0</td>\n",
       "      <td>Asuncion</td>\n",
       "    </tr>\n",
       "  </tbody>\n",
       "</table>\n",
       "<p>5 rows × 28 columns</p>\n",
       "</div>"
      ],
      "text/plain": [
       "          hhid  hh_d_ni_noasis  hh_d_esc_retardada  hh_d_logro_min  \\\n",
       "0  00014_003_1               0                   1               0   \n",
       "1  00014_020_1               0                   0               0   \n",
       "2  00014_023_1               0                   0               0   \n",
       "3  00014_024_1               0                   0               0   \n",
       "4  00014_025_1               0                   0               0   \n",
       "\n",
       "   hh_d_destotalmax  hh_d_subocup_max  hh_d_10a17_ocup  hh_d_no_afil  \\\n",
       "0                 1                 0                0             0   \n",
       "1                 0                 0                0             1   \n",
       "2                 0                 0                0             1   \n",
       "3                 0                 0                0             0   \n",
       "4                 0                 0                0             0   \n",
       "\n",
       "   hh_d_jubi_pens  hh_d_materialidad  ...  upm  nvivi  nhoga      dpto  area  \\\n",
       "0               0                  0  ...   14      3      1  Asuncion     1   \n",
       "1               0                  0  ...   14     20      1  Asuncion     1   \n",
       "2               0                  0  ...   14     23      1  Asuncion     1   \n",
       "3               0                  0  ...   14     24      1  Asuncion     1   \n",
       "4               0                  0  ...   14     25      1  Asuncion     1   \n",
       "\n",
       "   pobrezai  pobnopoi  ing_tcm  tcm    estgeo  \n",
       "0         3         0      0.0    0  Asuncion  \n",
       "1         3         0      0.0    0  Asuncion  \n",
       "2         3         0      0.0    0  Asuncion  \n",
       "3         3         0      0.0    0  Asuncion  \n",
       "4         3         0      0.0    0  Asuncion  \n",
       "\n",
       "[5 rows x 28 columns]"
      ]
     },
     "execution_count": 7,
     "metadata": {},
     "output_type": "execute_result"
    }
   ],
   "source": [
    "mpi2023.head()"
   ]
  },
  {
   "cell_type": "code",
   "execution_count": 8,
   "id": "0d959bbd-d9a9-4900-b1b7-c2f80b30372c",
   "metadata": {},
   "outputs": [],
   "source": [
    "dimensions_indicators = {\n",
    "    \"ed\" : [\"hh_d_ni_noasis\",\"hh_d_esc_retardada\",\"hh_d_logro_min\"],\n",
    "    \"em\" : [\"hh_d_destotalmax\",\"hh_d_subocup_max\",\"hh_d_10a17_ocup\",\"hh_d_no_afil\",\"hh_d_jubi_pens\"],\n",
    "    \"vi\" : [\"hh_d_materialidad\",\"hh_d_hacinamiento\",\"hh_d_sin_basur\"],\n",
    "    \"sa\" : [\"hh_d_sin_salud\",\"hh_d_agua_mejor\",\"hh_d_san_mejor\",\"hh_d_combus\"]\n",
    "}"
   ]
  },
  {
   "cell_type": "code",
   "execution_count": 9,
   "id": "1437496f-8f62-4df3-85c1-dbb2dce1a48d",
   "metadata": {},
   "outputs": [],
   "source": [
    "def calculate_weights(mpi_indicators):\n",
    "  \"\"\"\n",
    "  Parameters:\n",
    "    mpi_indicators: dictionary\n",
    "\n",
    "  Computation of each dimension and indicators weigths following capability approach criterion\n",
    "\n",
    "  Returns two dictionaries: one with dimensions weigths and another with indicators weights\n",
    "  \"\"\"\n",
    "  dim_weights, indic_weights = {}, {}\n",
    "  for key in mpi_indicators.keys():\n",
    "    weight = 1/len(mpi_indicators.keys())\n",
    "    dim_weights[key] = weight\n",
    "    for value in mpi_indicators[key]:\n",
    "      indic_weights[value] = weight / len(mpi_indicators[key])\n",
    "  return dim_weights, indic_weights"
   ]
  },
  {
   "cell_type": "code",
   "execution_count": 10,
   "id": "3cd70f0e-7def-48e0-8024-378cd644773a",
   "metadata": {},
   "outputs": [],
   "source": [
    "def deprivation_score(mpi_indicators,data):\n",
    "  dimensions_weights, indicators_weights = calculate_weights(mpi_indicators)\n",
    "  indicators_ = list(indicators_weights.keys())\n",
    "  mpi_data = data[indicators_]\n",
    "  for indicator in mpi_data.columns:\n",
    "    mpi_data[indicator] *= indicators_weights[indicator]\n",
    "  score = mpi_data.sum(axis=1)\n",
    "  return score"
   ]
  },
  {
   "cell_type": "code",
   "execution_count": 11,
   "id": "356cdb2c-3967-406b-a2c3-00f9722cda05",
   "metadata": {},
   "outputs": [],
   "source": [
    "def censored_deprivation_score(deprivation_score, k):\n",
    "  censored_deprivation_score = np.where(deprivation_score >= k, deprivation_score, 0)\n",
    "  return censored_deprivation_score"
   ]
  },
  {
   "cell_type": "code",
   "execution_count": 12,
   "id": "b23f3b26-9cd7-4b31-8bb0-62506de98f17",
   "metadata": {},
   "outputs": [
    {
     "name": "stderr",
     "output_type": "stream",
     "text": [
      "C:\\Users\\girel\\AppData\\Local\\Temp\\ipykernel_32524\\543157394.py:6: SettingWithCopyWarning: \n",
      "A value is trying to be set on a copy of a slice from a DataFrame.\n",
      "Try using .loc[row_indexer,col_indexer] = value instead\n",
      "\n",
      "See the caveats in the documentation: https://pandas.pydata.org/pandas-docs/stable/user_guide/indexing.html#returning-a-view-versus-a-copy\n",
      "  mpi_data[indicator] *= indicators_weights[indicator]\n"
     ]
    }
   ],
   "source": [
    "c_k = censored_deprivation_score(deprivation_score(dimensions_indicators, mpi2023), 26/100)"
   ]
  },
  {
   "cell_type": "code",
   "execution_count": 13,
   "id": "99655a1f-aeeb-4bff-ac9f-3aa7250d9e50",
   "metadata": {},
   "outputs": [],
   "source": [
    "mpi2023['mpi_poor'] =  np.where(c_k > 0, 1, 0)"
   ]
  },
  {
   "cell_type": "code",
   "execution_count": 17,
   "id": "d08f69f3-75cb-47c4-bf46-87020c205f2e",
   "metadata": {},
   "outputs": [],
   "source": [
    "nested_indicators = list(dimensions_indicators.values())\n",
    "\n",
    "indicators = []\n",
    "for i in nested_indicators:\n",
    "    indicators.extend(i)"
   ]
  },
  {
   "cell_type": "code",
   "execution_count": 18,
   "id": "f035635d-cfae-48e7-a002-ceab9a4fea58",
   "metadata": {},
   "outputs": [],
   "source": [
    "from sklearn import model_selection"
   ]
  },
  {
   "cell_type": "code",
   "execution_count": 19,
   "id": "703b72f4-9f0c-4072-a71b-b4116439fe51",
   "metadata": {},
   "outputs": [],
   "source": [
    "X = mpi2023[indicators]\n",
    "Y = mpi2023['pobnopoi']\n",
    "\n",
    "Xtrain, Xtest, ytrain, ytest = model_selection.train_test_split(X,Y,train_size = 0.8, random_state=912)"
   ]
  },
  {
   "cell_type": "code",
   "execution_count": null,
   "id": "c2024f9e-d3e0-40ad-a5a3-3c8649358599",
   "metadata": {},
   "outputs": [],
   "source": [
    "from discrete_gm_nonpos import direct_ci_model\n",
    "ci = direct_ci_model(c=np.array(0))\n",
    "Ytrain = ytrain.to_numpy().reshape(-1, 1)\n",
    "Xtrain = Xtrain.to_numpy()\n",
    "ci.learn(Xtrain>0, Ytrain>0)"
   ]
  },
  {
   "cell_type": "code",
   "execution_count": null,
   "id": "aa6e729a-5452-4666-a0e0-ad0b38ad4f8c",
   "metadata": {},
   "outputs": [],
   "source": [
    "direct_ci_pred = ci.predict(Xtest>0)"
   ]
  },
  {
   "cell_type": "code",
   "execution_count": 32,
   "id": "4ada883e-27ec-44a4-83aa-1bcec212bb45",
   "metadata": {},
   "outputs": [],
   "source": [
    "from sklearn.ensemble import RandomForestClassifier\n",
    "rf = RandomForestClassifier(n_estimators=500)\n",
    "random_forest = rf.fit(Xtrain, ytrain)"
   ]
  },
  {
   "cell_type": "code",
   "execution_count": 33,
   "id": "03a4d9a4-ad45-4951-9bac-8f3be44f2f24",
   "metadata": {},
   "outputs": [],
   "source": [
    "from sklearn.metrics import confusion_matrix\n",
    "\n",
    "def leakage(ytrue, ypred):\n",
    "    tn, fp, fn, tp = confusion_matrix(ytrue, ypred).ravel()\n",
    "    metric = fp/(fn+tp) \n",
    "    if metric > 1: metric = 1 \n",
    "    return metric\n",
    "\n",
    "def undercoverage(ytrue,ypred):\n",
    "    tn, fp, fn, tp = confusion_matrix(ytrue, ypred).ravel()\n",
    "    metric = fn/(fn+tp) \n",
    "    if metric > 1: metric = 1\n",
    "    return metric\n",
    "    \n",
    "def evaluate_thresholds(probabilities, true_labels, thresholds=None):\n",
    "    if thresholds is None:\n",
    "        thresholds = np.arange(0, 1.01, 0.01)\n",
    "\n",
    "    results = {\n",
    "        'thresholds': [],\n",
    "        'leakage': [],\n",
    "        'undercoverage': []\n",
    "    }\n",
    "\n",
    "    for threshold in thresholds:\n",
    "        predictions = (probabilities[:, 1] >= threshold).astype(int)\n",
    "        leakage_error = leakage(true_labels, predictions)\n",
    "        undercoverage_error = undercoverage(true_labels, predictions)\n",
    "\n",
    "        results['thresholds'].append(threshold)\n",
    "        results['leakage'].append(leakage_error)\n",
    "        results['undercoverage'].append(undercoverage_error)\n",
    "    \n",
    "    return results\n",
    "        "
   ]
  },
  {
   "cell_type": "code",
   "execution_count": 34,
   "id": "e60d2ea0-fe00-457d-8f6c-d6c97addb349",
   "metadata": {},
   "outputs": [],
   "source": [
    "# Assuming you have probabilities and true_labels\n",
    "results_rf = evaluate_thresholds(random_forest.predict_proba(Xtest), ytest)"
   ]
  },
  {
   "cell_type": "code",
   "execution_count": 39,
   "id": "c159571a-292f-4300-b0c8-51e04eb36eb4",
   "metadata": {},
   "outputs": [
    {
     "data": {
      "text/plain": [
       "array([[0],\n",
       "       [1],\n",
       "       [1],\n",
       "       ...,\n",
       "       [0],\n",
       "       [0],\n",
       "       [0]], dtype=int64)"
      ]
     },
     "execution_count": 39,
     "metadata": {},
     "output_type": "execute_result"
    }
   ],
   "source": [
    "Ytrain"
   ]
  }
 ],
 "metadata": {
  "kernelspec": {
   "display_name": "Python 3 (ipykernel)",
   "language": "python",
   "name": "python3"
  },
  "language_info": {
   "codemirror_mode": {
    "name": "ipython",
    "version": 3
   },
   "file_extension": ".py",
   "mimetype": "text/x-python",
   "name": "python",
   "nbconvert_exporter": "python",
   "pygments_lexer": "ipython3",
   "version": "3.11.4"
  }
 },
 "nbformat": 4,
 "nbformat_minor": 5
}
